{
 "cells": [
  {
   "cell_type": "code",
   "execution_count": 1,
   "id": "d6f3eca0",
   "metadata": {
    "execution": {
     "iopub.execute_input": "2023-05-04T09:06:23.782252Z",
     "iopub.status.busy": "2023-05-04T09:06:23.781405Z",
     "iopub.status.idle": "2023-05-04T09:06:39.494732Z",
     "shell.execute_reply": "2023-05-04T09:06:39.493633Z"
    },
    "papermill": {
     "duration": 15.723996,
     "end_time": "2023-05-04T09:06:39.497433",
     "exception": false,
     "start_time": "2023-05-04T09:06:23.773437",
     "status": "completed"
    },
    "tags": []
   },
   "outputs": [],
   "source": [
    "import matplotlib.pyplot as plt\n",
    "import numpy as np\n",
    "import pandas as pd\n",
    "import seaborn as sns\n",
    "import cv2\n",
    "import tensorflow as tf\n",
    "from tensorflow.keras.preprocessing.image import ImageDataGenerator\n",
    "from tqdm import tqdm\n",
    "import keras\n",
    "import os\n",
    "from sklearn.utils import shuffle\n",
    "from sklearn.model_selection import train_test_split\n",
    "from tensorflow.keras.layers import Input, Conv2D, Activation,MaxPool2D, AveragePooling2D, Flatten, GlobalAveragePooling2D, Dense, Dropout\n",
    "from tensorflow.keras.layers import Concatenate\n",
    "from tensorflow.keras.models import Model\n",
    "from keras.models import Sequential\n",
    "from tensorflow.keras.callbacks import EarlyStopping, ReduceLROnPlateau, TensorBoard, ModelCheckpoint\n",
    "from sklearn.metrics import classification_report,confusion_matrix\n",
    "import ipywidgets as widgets\n",
    "import io\n",
    "from PIL import Image\n",
    "from IPython.display import display,clear_output\n",
    "import time"
   ]
  },
  {
   "cell_type": "code",
   "execution_count": 2,
   "id": "1ca7af8f",
   "metadata": {
    "execution": {
     "iopub.execute_input": "2023-05-04T09:06:39.509241Z",
     "iopub.status.busy": "2023-05-04T09:06:39.507792Z",
     "iopub.status.idle": "2023-05-04T09:06:39.513313Z",
     "shell.execute_reply": "2023-05-04T09:06:39.512303Z"
    },
    "papermill": {
     "duration": 0.013246,
     "end_time": "2023-05-04T09:06:39.515456",
     "exception": false,
     "start_time": "2023-05-04T09:06:39.502210",
     "status": "completed"
    },
    "tags": []
   },
   "outputs": [],
   "source": [
    "labels = ['no-plastic','plastic'] "
   ]
  },
  {
   "cell_type": "code",
   "execution_count": 4,
   "id": "397e83b7",
   "metadata": {
    "execution": {
     "iopub.execute_input": "2023-05-04T09:06:39.524261Z",
     "iopub.status.busy": "2023-05-04T09:06:39.523993Z",
     "iopub.status.idle": "2023-05-04T09:08:56.406769Z",
     "shell.execute_reply": "2023-05-04T09:08:56.405552Z"
    },
    "papermill": {
     "duration": 136.890008,
     "end_time": "2023-05-04T09:08:56.409285",
     "exception": false,
     "start_time": "2023-05-04T09:06:39.519277",
     "status": "completed"
    },
    "tags": []
   },
   "outputs": [],
   "source": [
    "X_train = []\n",
    "y_train = []\n",
    "image_size = 224\n",
    "for i in labels:\n",
    "    folderPath = os.path.join(r'./','train',i)\n",
    "    for j in (os.listdir(folderPath)):\n",
    "        img = cv2.imread(os.path.join(folderPath,j))\n",
    "        img = cv2.resize(img,(image_size, image_size))\n",
    "        X_train.append(img)\n",
    "        y_train.append(i)\n",
    "        \n",
    "for i in labels:\n",
    "    folderPath = os.path.join(r'./','test',i)\n",
    "    for j in (os.listdir(folderPath)):\n",
    "        img = cv2.imread(os.path.join(folderPath,j))\n",
    "        img = cv2.resize(img,(image_size,image_size))\n",
    "        X_train.append(img)\n",
    "        y_train.append(i)\n",
    "        \n",
    "X_train = np.array(X_train)\n",
    "y_train = np.array(y_train)"
   ]
  },
  {
   "cell_type": "code",
   "execution_count": 5,
   "id": "50f577d3",
   "metadata": {
    "execution": {
     "iopub.execute_input": "2023-05-04T09:08:56.419953Z",
     "iopub.status.busy": "2023-05-04T09:08:56.418572Z",
     "iopub.status.idle": "2023-05-04T09:08:56.523820Z",
     "shell.execute_reply": "2023-05-04T09:08:56.522840Z"
    },
    "papermill": {
     "duration": 0.112828,
     "end_time": "2023-05-04T09:08:56.526329",
     "exception": false,
     "start_time": "2023-05-04T09:08:56.413501",
     "status": "completed"
    },
    "tags": []
   },
   "outputs": [],
   "source": [
    "X_train, y_train = shuffle(X_train,y_train, random_state=101)"
   ]
  },
  {
   "cell_type": "code",
   "execution_count": 6,
   "id": "78e232e6",
   "metadata": {
    "execution": {
     "iopub.execute_input": "2023-05-04T09:08:56.535463Z",
     "iopub.status.busy": "2023-05-04T09:08:56.535167Z",
     "iopub.status.idle": "2023-05-04T09:08:56.542356Z",
     "shell.execute_reply": "2023-05-04T09:08:56.541570Z"
    },
    "papermill": {
     "duration": 0.013986,
     "end_time": "2023-05-04T09:08:56.544322",
     "exception": false,
     "start_time": "2023-05-04T09:08:56.530336",
     "status": "completed"
    },
    "tags": []
   },
   "outputs": [
    {
     "data": {
      "text/plain": [
       "(2150, 224, 224, 3)"
      ]
     },
     "execution_count": 6,
     "metadata": {},
     "output_type": "execute_result"
    }
   ],
   "source": [
    "X_train.shape"
   ]
  },
  {
   "cell_type": "code",
   "execution_count": 7,
   "id": "c439e6b8",
   "metadata": {
    "execution": {
     "iopub.execute_input": "2023-05-04T09:08:56.553454Z",
     "iopub.status.busy": "2023-05-04T09:08:56.552819Z",
     "iopub.status.idle": "2023-05-04T09:08:57.348076Z",
     "shell.execute_reply": "2023-05-04T09:08:57.347168Z"
    },
    "papermill": {
     "duration": 0.801784,
     "end_time": "2023-05-04T09:08:57.350043",
     "exception": false,
     "start_time": "2023-05-04T09:08:56.548259",
     "status": "completed"
    },
    "tags": []
   },
   "outputs": [
    {
     "data": {
      "text/plain": [
       "(2150, 224, 224, 3)"
      ]
     },
     "execution_count": 7,
     "metadata": {},
     "output_type": "execute_result"
    }
   ],
   "source": [
    "datagen = ImageDataGenerator(\n",
    "    rotation_range=30,\n",
    "    width_shift_range=0.1,\n",
    "    height_shift_range=0.1,\n",
    "    zoom_range=0.2,\n",
    "    horizontal_flip=True)\n",
    "\n",
    "datagen.fit(X_train)\n",
    "X_train.shape"
   ]
  },
  {
   "cell_type": "code",
   "execution_count": 8,
   "id": "9e485c65",
   "metadata": {
    "execution": {
     "iopub.execute_input": "2023-05-04T09:08:57.359954Z",
     "iopub.status.busy": "2023-05-04T09:08:57.359001Z",
     "iopub.status.idle": "2023-05-04T09:08:57.456032Z",
     "shell.execute_reply": "2023-05-04T09:08:57.454963Z"
    },
    "papermill": {
     "duration": 0.104305,
     "end_time": "2023-05-04T09:08:57.458383",
     "exception": false,
     "start_time": "2023-05-04T09:08:57.354078",
     "status": "completed"
    },
    "tags": []
   },
   "outputs": [],
   "source": [
    "X_train,X_test,y_train,y_test = train_test_split(X_train,y_train, test_size=0.1,random_state=101)"
   ]
  },
  {
   "cell_type": "code",
   "execution_count": 9,
   "id": "172b7637",
   "metadata": {
    "execution": {
     "iopub.execute_input": "2023-05-04T09:08:57.468088Z",
     "iopub.status.busy": "2023-05-04T09:08:57.467669Z",
     "iopub.status.idle": "2023-05-04T09:08:57.474656Z",
     "shell.execute_reply": "2023-05-04T09:08:57.473803Z"
    },
    "papermill": {
     "duration": 0.014548,
     "end_time": "2023-05-04T09:08:57.477086",
     "exception": false,
     "start_time": "2023-05-04T09:08:57.462538",
     "status": "completed"
    },
    "tags": []
   },
   "outputs": [],
   "source": [
    "y_train_new = []\n",
    "for i in y_train:\n",
    "    y_train_new.append(labels.index(i))\n",
    "y_train = y_train_new\n",
    "y_train = tf.keras.utils.to_categorical(y_train)\n",
    "\n",
    "\n",
    "y_test_new = []\n",
    "for i in y_test:\n",
    "    y_test_new.append(labels.index(i))\n",
    "y_test = y_test_new\n",
    "y_test = tf.keras.utils.to_categorical(y_test)"
   ]
  },
  {
   "cell_type": "code",
   "execution_count": 10,
   "id": "af3db11e",
   "metadata": {
    "execution": {
     "iopub.execute_input": "2023-05-04T09:08:57.486509Z",
     "iopub.status.busy": "2023-05-04T09:08:57.486265Z",
     "iopub.status.idle": "2023-05-04T09:09:02.517657Z",
     "shell.execute_reply": "2023-05-04T09:09:02.516618Z"
    },
    "papermill": {
     "duration": 5.038874,
     "end_time": "2023-05-04T09:09:02.520024",
     "exception": false,
     "start_time": "2023-05-04T09:08:57.481150",
     "status": "completed"
    },
    "tags": []
   },
   "outputs": [
    {
     "name": "stderr",
     "output_type": "stream",
     "text": [
      "c:\\Users\\Richa\\anaconda3\\lib\\site-packages\\keras\\src\\layers\\convolutional\\base_conv.py:107: UserWarning: Do not pass an `input_shape`/`input_dim` argument to a layer. When using Sequential models, prefer using an `Input(shape)` object as the first layer in the model instead.\n",
      "  super().__init__(activity_regularizer=activity_regularizer, **kwargs)\n"
     ]
    }
   ],
   "source": [
    "model = Sequential()\n",
    "model.add(Conv2D(input_shape=(224,224,3),filters=6,kernel_size=(5,5),padding=\"same\", activation=\"relu\"))\n",
    "model.add(MaxPool2D(pool_size=(2,2),strides=(2,2)))\n",
    "model.add(Conv2D(filters=16,kernel_size=(5,5),padding=\"same\", activation=\"relu\"))\n",
    "model.add(Activation('relu'))\n",
    "model.add(MaxPool2D(pool_size=(2,2),strides=(2,2)))\n",
    "model.add(Conv2D(filters=64, kernel_size=(3,3), activation=\"relu\"))\n",
    "model.add(MaxPool2D(pool_size=(2,2),strides=(2,2)))\n",
    "# model.add(Conv2D(filters=32, kernel_size=(3,3), padding=\"same\", activation=\"relu\"))\n",
    "# model.add(MaxPool2D(pool_size=(2,2),strides=(2,2)))\n",
    "\n",
    "model.add(Flatten())\n",
    "# model.add(Dense(units=128,activation=\"relu\"))\n",
    "model.add(Dense(units=128,activation=\"relu\"))\n",
    "model.add(Dropout(0.5))\n",
    "model.add(Dense(units=2, activation=\"softmax\"))"
   ]
  },
  {
   "cell_type": "code",
   "execution_count": 11,
   "id": "29b75dd2",
   "metadata": {
    "execution": {
     "iopub.execute_input": "2023-05-04T09:09:02.529880Z",
     "iopub.status.busy": "2023-05-04T09:09:02.529610Z",
     "iopub.status.idle": "2023-05-04T09:09:02.534711Z",
     "shell.execute_reply": "2023-05-04T09:09:02.533848Z"
    },
    "papermill": {
     "duration": 0.012379,
     "end_time": "2023-05-04T09:09:02.536794",
     "exception": false,
     "start_time": "2023-05-04T09:09:02.524415",
     "status": "completed"
    },
    "tags": []
   },
   "outputs": [
    {
     "ename": "ValueError",
     "evalue": "The filepath provided must end in `.keras` (Keras model format). Received: filepath=/kaggle/working/model_tumour.h5",
     "output_type": "error",
     "traceback": [
      "\u001b[1;31m---------------------------------------------------------------------------\u001b[0m",
      "\u001b[1;31mValueError\u001b[0m                                Traceback (most recent call last)",
      "Cell \u001b[1;32mIn[11], line 8\u001b[0m\n\u001b[0;32m      1\u001b[0m \u001b[38;5;28;01mfrom\u001b[39;00m \u001b[38;5;21;01mtensorflow\u001b[39;00m\u001b[38;5;21;01m.\u001b[39;00m\u001b[38;5;21;01mkeras\u001b[39;00m\u001b[38;5;21;01m.\u001b[39;00m\u001b[38;5;21;01mcallbacks\u001b[39;00m \u001b[38;5;28;01mimport\u001b[39;00m EarlyStopping, ModelCheckpoint, ReduceLROnPlateau\n\u001b[0;32m      2\u001b[0m es \u001b[38;5;241m=\u001b[39m EarlyStopping(monitor \u001b[38;5;241m=\u001b[39m \u001b[38;5;124m'\u001b[39m\u001b[38;5;124mval_loss\u001b[39m\u001b[38;5;124m'\u001b[39m,\n\u001b[0;32m      3\u001b[0m                    min_delta \u001b[38;5;241m=\u001b[39m \u001b[38;5;241m0\u001b[39m,\n\u001b[0;32m      4\u001b[0m                    patience \u001b[38;5;241m=\u001b[39m \u001b[38;5;241m15\u001b[39m,\n\u001b[0;32m      5\u001b[0m                    verbose \u001b[38;5;241m=\u001b[39m \u001b[38;5;241m1\u001b[39m,\n\u001b[0;32m      6\u001b[0m                    restore_best_weights \u001b[38;5;241m=\u001b[39m \u001b[38;5;28;01mTrue\u001b[39;00m)\n\u001b[1;32m----> 8\u001b[0m checkpoint \u001b[38;5;241m=\u001b[39m \u001b[43mModelCheckpoint\u001b[49m\u001b[43m(\u001b[49m\u001b[43mfilepath\u001b[49m\u001b[43m \u001b[49m\u001b[38;5;241;43m=\u001b[39;49m\u001b[43m \u001b[49m\u001b[38;5;124;43m'\u001b[39;49m\u001b[38;5;124;43m/kaggle/working/model_tumour.h5\u001b[39;49m\u001b[38;5;124;43m'\u001b[39;49m\u001b[43m,\u001b[49m\u001b[43m \u001b[49m\n\u001b[0;32m      9\u001b[0m \u001b[43m                             \u001b[49m\u001b[43mmonitor\u001b[49m\u001b[43m \u001b[49m\u001b[38;5;241;43m=\u001b[39;49m\u001b[43m \u001b[49m\u001b[38;5;124;43m'\u001b[39;49m\u001b[38;5;124;43mval_loss\u001b[39;49m\u001b[38;5;124;43m'\u001b[39;49m\u001b[43m,\u001b[49m\u001b[43m \u001b[49m\n\u001b[0;32m     10\u001b[0m \u001b[43m                             \u001b[49m\u001b[43mmode\u001b[49m\u001b[43m \u001b[49m\u001b[38;5;241;43m=\u001b[39;49m\u001b[38;5;124;43m'\u001b[39;49m\u001b[38;5;124;43mmin\u001b[39;49m\u001b[38;5;124;43m'\u001b[39;49m\u001b[43m,\u001b[49m\u001b[43m \u001b[49m\n\u001b[0;32m     11\u001b[0m \u001b[43m                             \u001b[49m\u001b[43msave_best_only\u001b[49m\u001b[43m \u001b[49m\u001b[38;5;241;43m=\u001b[39;49m\u001b[43m \u001b[49m\u001b[38;5;28;43;01mTrue\u001b[39;49;00m\u001b[43m,\u001b[49m\n\u001b[0;32m     12\u001b[0m \u001b[43m                             \u001b[49m\u001b[43mverbose\u001b[49m\u001b[43m \u001b[49m\u001b[38;5;241;43m=\u001b[39;49m\u001b[43m \u001b[49m\u001b[38;5;241;43m1\u001b[39;49m\u001b[43m)\u001b[49m\n",
      "File \u001b[1;32mc:\\Users\\Richa\\anaconda3\\lib\\site-packages\\keras\\src\\callbacks\\model_checkpoint.py:191\u001b[0m, in \u001b[0;36mModelCheckpoint.__init__\u001b[1;34m(self, filepath, monitor, verbose, save_best_only, save_weights_only, mode, save_freq, initial_value_threshold)\u001b[0m\n\u001b[0;32m    189\u001b[0m \u001b[38;5;28;01melse\u001b[39;00m:\n\u001b[0;32m    190\u001b[0m     \u001b[38;5;28;01mif\u001b[39;00m \u001b[38;5;129;01mnot\u001b[39;00m \u001b[38;5;28mself\u001b[39m\u001b[38;5;241m.\u001b[39mfilepath\u001b[38;5;241m.\u001b[39mendswith(\u001b[38;5;124m\"\u001b[39m\u001b[38;5;124m.keras\u001b[39m\u001b[38;5;124m\"\u001b[39m):\n\u001b[1;32m--> 191\u001b[0m         \u001b[38;5;28;01mraise\u001b[39;00m \u001b[38;5;167;01mValueError\u001b[39;00m(\n\u001b[0;32m    192\u001b[0m             \u001b[38;5;124m\"\u001b[39m\u001b[38;5;124mThe filepath provided must end in `.keras` \u001b[39m\u001b[38;5;124m\"\u001b[39m\n\u001b[0;32m    193\u001b[0m             \u001b[38;5;124m\"\u001b[39m\u001b[38;5;124m(Keras model format). Received: \u001b[39m\u001b[38;5;124m\"\u001b[39m\n\u001b[0;32m    194\u001b[0m             \u001b[38;5;124mf\u001b[39m\u001b[38;5;124m\"\u001b[39m\u001b[38;5;124mfilepath=\u001b[39m\u001b[38;5;132;01m{\u001b[39;00m\u001b[38;5;28mself\u001b[39m\u001b[38;5;241m.\u001b[39mfilepath\u001b[38;5;132;01m}\u001b[39;00m\u001b[38;5;124m\"\u001b[39m\n\u001b[0;32m    195\u001b[0m         )\n",
      "\u001b[1;31mValueError\u001b[0m: The filepath provided must end in `.keras` (Keras model format). Received: filepath=/kaggle/working/model_tumour.h5"
     ]
    }
   ],
   "source": [
    "from tensorflow.keras.callbacks import EarlyStopping, ModelCheckpoint, ReduceLROnPlateau\n",
    "es = EarlyStopping(monitor = 'val_loss',\n",
    "                   min_delta = 0,\n",
    "                   patience = 15,\n",
    "                   verbose = 1,\n",
    "                   restore_best_weights = True)\n",
    "\n",
    "checkpoint = ModelCheckpoint(filepath = '/kaggle/working/model_tumour.h5', \n",
    "                             monitor = 'val_loss', \n",
    "                             mode ='min', \n",
    "                             save_best_only = True,\n",
    "                             verbose = 1)"
   ]
  },
  {
   "cell_type": "code",
   "execution_count": 12,
   "id": "c7f83450",
   "metadata": {
    "execution": {
     "iopub.execute_input": "2023-05-04T09:09:02.545227Z",
     "iopub.status.busy": "2023-05-04T09:09:02.544983Z",
     "iopub.status.idle": "2023-05-04T09:10:26.257948Z",
     "shell.execute_reply": "2023-05-04T09:10:26.256923Z"
    },
    "papermill": {
     "duration": 83.725164,
     "end_time": "2023-05-04T09:10:26.265608",
     "exception": false,
     "start_time": "2023-05-04T09:09:02.540444",
     "status": "completed"
    },
    "tags": []
   },
   "outputs": [
    {
     "name": "stdout",
     "output_type": "stream",
     "text": [
      "Epoch 1/100\n",
      "\u001b[1m12/12\u001b[0m \u001b[32m━━━━━━━━━━━━━━━━━━━━\u001b[0m\u001b[37m\u001b[0m \u001b[1m3s\u001b[0m 122ms/step - accuracy: 0.5980 - loss: 24.7771 - val_accuracy: 0.7835 - val_loss: 1.4477\n",
      "Epoch 2/100\n",
      "\u001b[1m12/12\u001b[0m \u001b[32m━━━━━━━━━━━━━━━━━━━━\u001b[0m\u001b[37m\u001b[0m \u001b[1m1s\u001b[0m 110ms/step - accuracy: 0.6605 - loss: 1.2183 - val_accuracy: 0.7577 - val_loss: 0.5882\n",
      "Epoch 3/100\n",
      "\u001b[1m12/12\u001b[0m \u001b[32m━━━━━━━━━━━━━━━━━━━━\u001b[0m\u001b[37m\u001b[0m \u001b[1m1s\u001b[0m 104ms/step - accuracy: 0.6476 - loss: 0.7247 - val_accuracy: 0.7835 - val_loss: 0.5944\n",
      "Epoch 4/100\n",
      "\u001b[1m12/12\u001b[0m \u001b[32m━━━━━━━━━━━━━━━━━━━━\u001b[0m\u001b[37m\u001b[0m \u001b[1m1s\u001b[0m 105ms/step - accuracy: 0.6822 - loss: 0.6240 - val_accuracy: 0.7526 - val_loss: 0.5893\n",
      "Epoch 5/100\n",
      "\u001b[1m11/12\u001b[0m \u001b[32m━━━━━━━━━━━━━━━━━━\u001b[0m\u001b[37m━━\u001b[0m \u001b[1m0s\u001b[0m 99ms/step - accuracy: 0.7324 - loss: 0.5872 "
     ]
    },
    {
     "name": "stderr",
     "output_type": "stream",
     "text": [
      "c:\\Users\\Richa\\anaconda3\\lib\\contextlib.py:153: UserWarning: Your input ran out of data; interrupting training. Make sure that your dataset or generator can generate at least `steps_per_epoch * epochs` batches. You may need to use the `.repeat()` function when building your dataset.\n",
      "  self.gen.throw(typ, value, traceback)\n"
     ]
    },
    {
     "name": "stdout",
     "output_type": "stream",
     "text": [
      "\u001b[1m12/12\u001b[0m \u001b[32m━━━━━━━━━━━━━━━━━━━━\u001b[0m\u001b[37m\u001b[0m \u001b[1m1s\u001b[0m 110ms/step - accuracy: 0.7331 - loss: 0.5874 - val_accuracy: 0.7113 - val_loss: 0.5871\n",
      "Epoch 6/100\n",
      "\u001b[1m12/12\u001b[0m \u001b[32m━━━━━━━━━━━━━━━━━━━━\u001b[0m\u001b[37m\u001b[0m \u001b[1m2s\u001b[0m 128ms/step - accuracy: 0.7753 - loss: 0.5640 - val_accuracy: 0.7268 - val_loss: 0.5732\n",
      "Epoch 7/100\n",
      "\u001b[1m12/12\u001b[0m \u001b[32m━━━━━━━━━━━━━━━━━━━━\u001b[0m\u001b[37m\u001b[0m \u001b[1m1s\u001b[0m 119ms/step - accuracy: 0.6877 - loss: 0.5597 - val_accuracy: 0.7835 - val_loss: 0.5273\n",
      "Epoch 8/100\n",
      "\u001b[1m12/12\u001b[0m \u001b[32m━━━━━━━━━━━━━━━━━━━━\u001b[0m\u001b[37m\u001b[0m \u001b[1m1s\u001b[0m 110ms/step - accuracy: 0.7653 - loss: 0.4851 - val_accuracy: 0.7423 - val_loss: 0.5340\n",
      "Epoch 9/100\n",
      "\u001b[1m12/12\u001b[0m \u001b[32m━━━━━━━━━━━━━━━━━━━━\u001b[0m\u001b[37m\u001b[0m \u001b[1m1s\u001b[0m 117ms/step - accuracy: 0.7469 - loss: 0.5127 - val_accuracy: 0.7680 - val_loss: 0.5137\n",
      "Epoch 10/100\n",
      "\u001b[1m12/12\u001b[0m \u001b[32m━━━━━━━━━━━━━━━━━━━━\u001b[0m\u001b[37m\u001b[0m \u001b[1m1s\u001b[0m 103ms/step - accuracy: 0.7919 - loss: 0.4773 - val_accuracy: 0.7577 - val_loss: 0.5128\n",
      "Epoch 11/100\n",
      "\u001b[1m12/12\u001b[0m \u001b[32m━━━━━━━━━━━━━━━━━━━━\u001b[0m\u001b[37m\u001b[0m \u001b[1m1s\u001b[0m 119ms/step - accuracy: 0.7969 - loss: 0.4559 - val_accuracy: 0.7784 - val_loss: 0.4943\n",
      "Epoch 12/100\n",
      "\u001b[1m12/12\u001b[0m \u001b[32m━━━━━━━━━━━━━━━━━━━━\u001b[0m\u001b[37m\u001b[0m \u001b[1m1s\u001b[0m 108ms/step - accuracy: 0.8008 - loss: 0.4532 - val_accuracy: 0.7784 - val_loss: 0.5022\n",
      "Epoch 13/100\n",
      "\u001b[1m12/12\u001b[0m \u001b[32m━━━━━━━━━━━━━━━━━━━━\u001b[0m\u001b[37m\u001b[0m \u001b[1m1s\u001b[0m 106ms/step - accuracy: 0.7981 - loss: 0.4206 - val_accuracy: 0.7784 - val_loss: 0.5045\n",
      "Epoch 14/100\n",
      "\u001b[1m12/12\u001b[0m \u001b[32m━━━━━━━━━━━━━━━━━━━━\u001b[0m\u001b[37m\u001b[0m \u001b[1m1s\u001b[0m 121ms/step - accuracy: 0.8465 - loss: 0.4048 - val_accuracy: 0.7938 - val_loss: 0.4589\n",
      "Epoch 15/100\n",
      "\u001b[1m12/12\u001b[0m \u001b[32m━━━━━━━━━━━━━━━━━━━━\u001b[0m\u001b[37m\u001b[0m \u001b[1m1s\u001b[0m 99ms/step - accuracy: 0.8230 - loss: 0.4190 - val_accuracy: 0.8144 - val_loss: 0.4424\n",
      "Epoch 16/100\n",
      "\u001b[1m12/12\u001b[0m \u001b[32m━━━━━━━━━━━━━━━━━━━━\u001b[0m\u001b[37m\u001b[0m \u001b[1m1s\u001b[0m 110ms/step - accuracy: 0.8345 - loss: 0.3728 - val_accuracy: 0.7990 - val_loss: 0.4364\n",
      "Epoch 17/100\n",
      "\u001b[1m12/12\u001b[0m \u001b[32m━━━━━━━━━━━━━━━━━━━━\u001b[0m\u001b[37m\u001b[0m \u001b[1m1s\u001b[0m 108ms/step - accuracy: 0.8701 - loss: 0.3265 - val_accuracy: 0.8041 - val_loss: 0.4861\n",
      "Epoch 18/100\n",
      "\u001b[1m12/12\u001b[0m \u001b[32m━━━━━━━━━━━━━━━━━━━━\u001b[0m\u001b[37m\u001b[0m \u001b[1m1s\u001b[0m 108ms/step - accuracy: 0.8398 - loss: 0.3794 - val_accuracy: 0.8144 - val_loss: 0.4416\n",
      "Epoch 19/100\n",
      "\u001b[1m12/12\u001b[0m \u001b[32m━━━━━━━━━━━━━━━━━━━━\u001b[0m\u001b[37m\u001b[0m \u001b[1m1s\u001b[0m 109ms/step - accuracy: 0.8454 - loss: 0.3697 - val_accuracy: 0.7990 - val_loss: 0.4731\n",
      "Epoch 20/100\n",
      "\u001b[1m12/12\u001b[0m \u001b[32m━━━━━━━━━━━━━━━━━━━━\u001b[0m\u001b[37m\u001b[0m \u001b[1m1s\u001b[0m 94ms/step - accuracy: 0.8364 - loss: 0.3998 - val_accuracy: 0.8093 - val_loss: 0.4503\n",
      "Epoch 21/100\n",
      "\u001b[1m12/12\u001b[0m \u001b[32m━━━━━━━━━━━━━━━━━━━━\u001b[0m\u001b[37m\u001b[0m \u001b[1m1s\u001b[0m 117ms/step - accuracy: 0.8232 - loss: 0.3977 - val_accuracy: 0.7835 - val_loss: 0.4782\n",
      "Epoch 22/100\n",
      "\u001b[1m12/12\u001b[0m \u001b[32m━━━━━━━━━━━━━━━━━━━━\u001b[0m\u001b[37m\u001b[0m \u001b[1m2s\u001b[0m 127ms/step - accuracy: 0.8970 - loss: 0.2955 - val_accuracy: 0.7887 - val_loss: 0.4707\n",
      "Epoch 23/100\n",
      "\u001b[1m12/12\u001b[0m \u001b[32m━━━━━━━━━━━━━━━━━━━━\u001b[0m\u001b[37m\u001b[0m \u001b[1m1s\u001b[0m 120ms/step - accuracy: 0.9040 - loss: 0.2842 - val_accuracy: 0.8196 - val_loss: 0.4345\n",
      "Epoch 24/100\n",
      "\u001b[1m12/12\u001b[0m \u001b[32m━━━━━━━━━━━━━━━━━━━━\u001b[0m\u001b[37m\u001b[0m \u001b[1m1s\u001b[0m 114ms/step - accuracy: 0.9140 - loss: 0.2401 - val_accuracy: 0.8093 - val_loss: 0.4705\n",
      "Epoch 25/100\n",
      "\u001b[1m12/12\u001b[0m \u001b[32m━━━━━━━━━━━━━━━━━━━━\u001b[0m\u001b[37m\u001b[0m \u001b[1m1s\u001b[0m 101ms/step - accuracy: 0.8533 - loss: 0.2812 - val_accuracy: 0.7887 - val_loss: 0.4842\n",
      "Epoch 26/100\n",
      "\u001b[1m12/12\u001b[0m \u001b[32m━━━━━━━━━━━━━━━━━━━━\u001b[0m\u001b[37m\u001b[0m \u001b[1m1s\u001b[0m 106ms/step - accuracy: 0.9215 - loss: 0.2113 - val_accuracy: 0.7887 - val_loss: 0.4939\n",
      "Epoch 27/100\n",
      "\u001b[1m12/12\u001b[0m \u001b[32m━━━━━━━━━━━━━━━━━━━━\u001b[0m\u001b[37m\u001b[0m \u001b[1m1s\u001b[0m 104ms/step - accuracy: 0.9210 - loss: 0.2097 - val_accuracy: 0.8093 - val_loss: 0.4841\n",
      "Epoch 28/100\n",
      "\u001b[1m12/12\u001b[0m \u001b[32m━━━━━━━━━━━━━━━━━━━━\u001b[0m\u001b[37m\u001b[0m \u001b[1m1s\u001b[0m 103ms/step - accuracy: 0.8904 - loss: 0.2646 - val_accuracy: 0.8041 - val_loss: 0.4797\n",
      "Epoch 29/100\n",
      "\u001b[1m12/12\u001b[0m \u001b[32m━━━━━━━━━━━━━━━━━━━━\u001b[0m\u001b[37m\u001b[0m \u001b[1m1s\u001b[0m 103ms/step - accuracy: 0.9119 - loss: 0.2074 - val_accuracy: 0.8299 - val_loss: 0.4749\n",
      "Epoch 30/100\n",
      "\u001b[1m12/12\u001b[0m \u001b[32m━━━━━━━━━━━━━━━━━━━━\u001b[0m\u001b[37m\u001b[0m \u001b[1m1s\u001b[0m 93ms/step - accuracy: 0.9422 - loss: 0.2092 - val_accuracy: 0.8093 - val_loss: 0.5085\n",
      "Epoch 31/100\n",
      "\u001b[1m12/12\u001b[0m \u001b[32m━━━━━━━━━━━━━━━━━━━━\u001b[0m\u001b[37m\u001b[0m \u001b[1m1s\u001b[0m 105ms/step - accuracy: 0.9446 - loss: 0.1908 - val_accuracy: 0.8299 - val_loss: 0.4583\n",
      "Epoch 32/100\n",
      "\u001b[1m12/12\u001b[0m \u001b[32m━━━━━━━━━━━━━━━━━━━━\u001b[0m\u001b[37m\u001b[0m \u001b[1m1s\u001b[0m 111ms/step - accuracy: 0.9187 - loss: 0.1996 - val_accuracy: 0.8196 - val_loss: 0.4661\n",
      "Epoch 33/100\n",
      "\u001b[1m12/12\u001b[0m \u001b[32m━━━━━━━━━━━━━━━━━━━━\u001b[0m\u001b[37m\u001b[0m \u001b[1m1s\u001b[0m 114ms/step - accuracy: 0.9478 - loss: 0.1896 - val_accuracy: 0.8144 - val_loss: 0.4524\n",
      "Epoch 34/100\n",
      "\u001b[1m12/12\u001b[0m \u001b[32m━━━━━━━━━━━━━━━━━━━━\u001b[0m\u001b[37m\u001b[0m \u001b[1m1s\u001b[0m 112ms/step - accuracy: 0.9283 - loss: 0.1870 - val_accuracy: 0.8247 - val_loss: 0.4764\n",
      "Epoch 35/100\n",
      "\u001b[1m12/12\u001b[0m \u001b[32m━━━━━━━━━━━━━━━━━━━━\u001b[0m\u001b[37m\u001b[0m \u001b[1m1s\u001b[0m 94ms/step - accuracy: 0.9460 - loss: 0.1393 - val_accuracy: 0.8351 - val_loss: 0.4671\n",
      "Epoch 36/100\n",
      "\u001b[1m12/12\u001b[0m \u001b[32m━━━━━━━━━━━━━━━━━━━━\u001b[0m\u001b[37m\u001b[0m \u001b[1m1s\u001b[0m 113ms/step - accuracy: 0.9382 - loss: 0.1847 - val_accuracy: 0.8041 - val_loss: 0.5754\n",
      "Epoch 37/100\n",
      "\u001b[1m12/12\u001b[0m \u001b[32m━━━━━━━━━━━━━━━━━━━━\u001b[0m\u001b[37m\u001b[0m \u001b[1m1s\u001b[0m 104ms/step - accuracy: 0.9380 - loss: 0.2032 - val_accuracy: 0.8093 - val_loss: 0.4774\n",
      "Epoch 38/100\n",
      "\u001b[1m12/12\u001b[0m \u001b[32m━━━━━━━━━━━━━━━━━━━━\u001b[0m\u001b[37m\u001b[0m \u001b[1m1s\u001b[0m 101ms/step - accuracy: 0.9382 - loss: 0.1846 - val_accuracy: 0.8093 - val_loss: 0.5436\n",
      "Epoch 39/100\n",
      "\u001b[1m12/12\u001b[0m \u001b[32m━━━━━━━━━━━━━━━━━━━━\u001b[0m\u001b[37m\u001b[0m \u001b[1m1s\u001b[0m 103ms/step - accuracy: 0.9499 - loss: 0.2291 - val_accuracy: 0.8247 - val_loss: 0.5138\n",
      "Epoch 40/100\n",
      "\u001b[1m12/12\u001b[0m \u001b[32m━━━━━━━━━━━━━━━━━━━━\u001b[0m\u001b[37m\u001b[0m \u001b[1m1s\u001b[0m 90ms/step - accuracy: 0.9213 - loss: 0.1798 - val_accuracy: 0.8144 - val_loss: 0.5638\n",
      "Epoch 41/100\n",
      "\u001b[1m12/12\u001b[0m \u001b[32m━━━━━━━━━━━━━━━━━━━━\u001b[0m\u001b[37m\u001b[0m \u001b[1m1s\u001b[0m 106ms/step - accuracy: 0.9276 - loss: 0.1888 - val_accuracy: 0.8144 - val_loss: 0.5071\n",
      "Epoch 42/100\n",
      "\u001b[1m12/12\u001b[0m \u001b[32m━━━━━━━━━━━━━━━━━━━━\u001b[0m\u001b[37m\u001b[0m \u001b[1m1s\u001b[0m 111ms/step - accuracy: 0.9640 - loss: 0.1360 - val_accuracy: 0.8247 - val_loss: 0.5096\n",
      "Epoch 43/100\n",
      "\u001b[1m12/12\u001b[0m \u001b[32m━━━━━━━━━━━━━━━━━━━━\u001b[0m\u001b[37m\u001b[0m \u001b[1m1s\u001b[0m 105ms/step - accuracy: 0.9425 - loss: 0.1393 - val_accuracy: 0.8299 - val_loss: 0.5716\n",
      "Epoch 44/100\n",
      "\u001b[1m12/12\u001b[0m \u001b[32m━━━━━━━━━━━━━━━━━━━━\u001b[0m\u001b[37m\u001b[0m \u001b[1m1s\u001b[0m 104ms/step - accuracy: 0.9702 - loss: 0.1124 - val_accuracy: 0.8299 - val_loss: 0.5886\n",
      "Epoch 45/100\n",
      "\u001b[1m12/12\u001b[0m \u001b[32m━━━━━━━━━━━━━━━━━━━━\u001b[0m\u001b[37m\u001b[0m \u001b[1m1s\u001b[0m 91ms/step - accuracy: 0.9838 - loss: 0.0680 - val_accuracy: 0.8351 - val_loss: 0.5984\n",
      "Epoch 46/100\n",
      "\u001b[1m12/12\u001b[0m \u001b[32m━━━━━━━━━━━━━━━━━━━━\u001b[0m\u001b[37m\u001b[0m \u001b[1m1s\u001b[0m 103ms/step - accuracy: 0.9757 - loss: 0.0907 - val_accuracy: 0.8196 - val_loss: 0.6424\n",
      "Epoch 47/100\n",
      "\u001b[1m12/12\u001b[0m \u001b[32m━━━━━━━━━━━━━━━━━━━━\u001b[0m\u001b[37m\u001b[0m \u001b[1m1s\u001b[0m 106ms/step - accuracy: 0.9592 - loss: 0.1440 - val_accuracy: 0.8247 - val_loss: 0.5549\n",
      "Epoch 48/100\n",
      "\u001b[1m12/12\u001b[0m \u001b[32m━━━━━━━━━━━━━━━━━━━━\u001b[0m\u001b[37m\u001b[0m \u001b[1m1s\u001b[0m 101ms/step - accuracy: 0.9649 - loss: 0.1153 - val_accuracy: 0.8196 - val_loss: 0.5717\n",
      "Epoch 49/100\n",
      "\u001b[1m12/12\u001b[0m \u001b[32m━━━━━━━━━━━━━━━━━━━━\u001b[0m\u001b[37m\u001b[0m \u001b[1m1s\u001b[0m 105ms/step - accuracy: 0.9640 - loss: 0.1110 - val_accuracy: 0.8247 - val_loss: 0.5711\n",
      "Epoch 50/100\n",
      "\u001b[1m12/12\u001b[0m \u001b[32m━━━━━━━━━━━━━━━━━━━━\u001b[0m\u001b[37m\u001b[0m \u001b[1m1s\u001b[0m 89ms/step - accuracy: 0.9667 - loss: 0.1163 - val_accuracy: 0.8299 - val_loss: 0.5413\n",
      "Epoch 51/100\n",
      "\u001b[1m12/12\u001b[0m \u001b[32m━━━━━━━━━━━━━━━━━━━━\u001b[0m\u001b[37m\u001b[0m \u001b[1m1s\u001b[0m 112ms/step - accuracy: 0.9826 - loss: 0.1012 - val_accuracy: 0.8299 - val_loss: 0.5832\n",
      "Epoch 52/100\n",
      "\u001b[1m12/12\u001b[0m \u001b[32m━━━━━━━━━━━━━━━━━━━━\u001b[0m\u001b[37m\u001b[0m \u001b[1m1s\u001b[0m 111ms/step - accuracy: 0.9775 - loss: 0.0910 - val_accuracy: 0.8247 - val_loss: 0.5698\n",
      "Epoch 53/100\n",
      "\u001b[1m12/12\u001b[0m \u001b[32m━━━━━━━━━━━━━━━━━━━━\u001b[0m\u001b[37m\u001b[0m \u001b[1m1s\u001b[0m 104ms/step - accuracy: 0.9724 - loss: 0.0963 - val_accuracy: 0.8144 - val_loss: 0.5972\n",
      "Epoch 54/100\n",
      "\u001b[1m12/12\u001b[0m \u001b[32m━━━━━━━━━━━━━━━━━━━━\u001b[0m\u001b[37m\u001b[0m \u001b[1m1s\u001b[0m 103ms/step - accuracy: 0.9554 - loss: 0.0905 - val_accuracy: 0.8402 - val_loss: 0.5802\n",
      "Epoch 55/100\n",
      "\u001b[1m12/12\u001b[0m \u001b[32m━━━━━━━━━━━━━━━━━━━━\u001b[0m\u001b[37m\u001b[0m \u001b[1m1s\u001b[0m 91ms/step - accuracy: 0.9697 - loss: 0.0844 - val_accuracy: 0.8505 - val_loss: 0.6788\n",
      "Epoch 56/100\n",
      "\u001b[1m12/12\u001b[0m \u001b[32m━━━━━━━━━━━━━━━━━━━━\u001b[0m\u001b[37m\u001b[0m \u001b[1m1s\u001b[0m 105ms/step - accuracy: 0.9793 - loss: 0.0684 - val_accuracy: 0.8299 - val_loss: 0.6255\n",
      "Epoch 57/100\n",
      "\u001b[1m12/12\u001b[0m \u001b[32m━━━━━━━━━━━━━━━━━━━━\u001b[0m\u001b[37m\u001b[0m \u001b[1m1s\u001b[0m 104ms/step - accuracy: 0.9624 - loss: 0.1015 - val_accuracy: 0.8299 - val_loss: 0.6123\n",
      "Epoch 58/100\n",
      "\u001b[1m12/12\u001b[0m \u001b[32m━━━━━━━━━━━━━━━━━━━━\u001b[0m\u001b[37m\u001b[0m \u001b[1m1s\u001b[0m 104ms/step - accuracy: 0.9713 - loss: 0.1003 - val_accuracy: 0.8299 - val_loss: 0.6333\n",
      "Epoch 59/100\n",
      "\u001b[1m12/12\u001b[0m \u001b[32m━━━━━━━━━━━━━━━━━━━━\u001b[0m\u001b[37m\u001b[0m \u001b[1m1s\u001b[0m 107ms/step - accuracy: 0.9860 - loss: 0.0569 - val_accuracy: 0.8557 - val_loss: 0.5716\n",
      "Epoch 60/100\n",
      "\u001b[1m12/12\u001b[0m \u001b[32m━━━━━━━━━━━━━━━━━━━━\u001b[0m\u001b[37m\u001b[0m \u001b[1m1s\u001b[0m 99ms/step - accuracy: 0.9731 - loss: 0.0780 - val_accuracy: 0.8402 - val_loss: 0.5939\n",
      "Epoch 61/100\n",
      "\u001b[1m12/12\u001b[0m \u001b[32m━━━━━━━━━━━━━━━━━━━━\u001b[0m\u001b[37m\u001b[0m \u001b[1m2s\u001b[0m 123ms/step - accuracy: 0.9867 - loss: 0.0575 - val_accuracy: 0.8402 - val_loss: 0.5442\n",
      "Epoch 62/100\n",
      "\u001b[1m12/12\u001b[0m \u001b[32m━━━━━━━━━━━━━━━━━━━━\u001b[0m\u001b[37m\u001b[0m \u001b[1m1s\u001b[0m 119ms/step - accuracy: 0.9787 - loss: 0.0745 - val_accuracy: 0.8505 - val_loss: 0.5233\n",
      "Epoch 63/100\n",
      "\u001b[1m12/12\u001b[0m \u001b[32m━━━━━━━━━━━━━━━━━━━━\u001b[0m\u001b[37m\u001b[0m \u001b[1m1s\u001b[0m 126ms/step - accuracy: 0.9887 - loss: 0.0536 - val_accuracy: 0.8608 - val_loss: 0.5576\n",
      "Epoch 64/100\n",
      "\u001b[1m12/12\u001b[0m \u001b[32m━━━━━━━━━━━━━━━━━━━━\u001b[0m\u001b[37m\u001b[0m \u001b[1m2s\u001b[0m 193ms/step - accuracy: 0.9698 - loss: 0.1068 - val_accuracy: 0.8402 - val_loss: 0.6694\n",
      "Epoch 65/100\n",
      "\u001b[1m12/12\u001b[0m \u001b[32m━━━━━━━━━━━━━━━━━━━━\u001b[0m\u001b[37m\u001b[0m \u001b[1m2s\u001b[0m 155ms/step - accuracy: 0.9642 - loss: 0.0922 - val_accuracy: 0.8299 - val_loss: 0.6731\n",
      "Epoch 66/100\n",
      "\u001b[1m12/12\u001b[0m \u001b[32m━━━━━━━━━━━━━━━━━━━━\u001b[0m\u001b[37m\u001b[0m \u001b[1m2s\u001b[0m 180ms/step - accuracy: 0.9753 - loss: 0.0841 - val_accuracy: 0.8351 - val_loss: 0.6030\n",
      "Epoch 67/100\n",
      "\u001b[1m12/12\u001b[0m \u001b[32m━━━━━━━━━━━━━━━━━━━━\u001b[0m\u001b[37m\u001b[0m \u001b[1m2s\u001b[0m 190ms/step - accuracy: 0.9641 - loss: 0.0743 - val_accuracy: 0.8299 - val_loss: 0.6305\n",
      "Epoch 68/100\n",
      "\u001b[1m12/12\u001b[0m \u001b[32m━━━━━━━━━━━━━━━━━━━━\u001b[0m\u001b[37m\u001b[0m \u001b[1m2s\u001b[0m 172ms/step - accuracy: 0.9748 - loss: 0.0772 - val_accuracy: 0.8454 - val_loss: 0.7152\n",
      "Epoch 69/100\n",
      "\u001b[1m12/12\u001b[0m \u001b[32m━━━━━━━━━━━━━━━━━━━━\u001b[0m\u001b[37m\u001b[0m \u001b[1m2s\u001b[0m 195ms/step - accuracy: 0.9804 - loss: 0.0559 - val_accuracy: 0.8351 - val_loss: 0.7805\n",
      "Epoch 70/100\n",
      "\u001b[1m12/12\u001b[0m \u001b[32m━━━━━━━━━━━━━━━━━━━━\u001b[0m\u001b[37m\u001b[0m \u001b[1m2s\u001b[0m 151ms/step - accuracy: 0.9724 - loss: 0.0730 - val_accuracy: 0.8351 - val_loss: 0.7326\n",
      "Epoch 71/100\n",
      "\u001b[1m12/12\u001b[0m \u001b[32m━━━━━━━━━━━━━━━━━━━━\u001b[0m\u001b[37m\u001b[0m \u001b[1m2s\u001b[0m 152ms/step - accuracy: 0.9762 - loss: 0.0571 - val_accuracy: 0.8454 - val_loss: 0.6945\n",
      "Epoch 72/100\n",
      "\u001b[1m12/12\u001b[0m \u001b[32m━━━━━━━━━━━━━━━━━━━━\u001b[0m\u001b[37m\u001b[0m \u001b[1m1s\u001b[0m 109ms/step - accuracy: 0.9923 - loss: 0.0440 - val_accuracy: 0.8196 - val_loss: 0.7665\n",
      "Epoch 73/100\n",
      "\u001b[1m12/12\u001b[0m \u001b[32m━━━━━━━━━━━━━━━━━━━━\u001b[0m\u001b[37m\u001b[0m \u001b[1m1s\u001b[0m 112ms/step - accuracy: 0.9812 - loss: 0.0606 - val_accuracy: 0.8299 - val_loss: 0.7367\n",
      "Epoch 74/100\n",
      "\u001b[1m12/12\u001b[0m \u001b[32m━━━━━━━━━━━━━━━━━━━━\u001b[0m\u001b[37m\u001b[0m \u001b[1m1s\u001b[0m 108ms/step - accuracy: 0.9872 - loss: 0.0439 - val_accuracy: 0.8247 - val_loss: 0.6968\n",
      "Epoch 75/100\n",
      "\u001b[1m12/12\u001b[0m \u001b[32m━━━━━━━━━━━━━━━━━━━━\u001b[0m\u001b[37m\u001b[0m \u001b[1m1s\u001b[0m 90ms/step - accuracy: 0.9817 - loss: 0.0420 - val_accuracy: 0.8402 - val_loss: 0.7180\n",
      "Epoch 76/100\n",
      "\u001b[1m12/12\u001b[0m \u001b[32m━━━━━━━━━━━━━━━━━━━━\u001b[0m\u001b[37m\u001b[0m \u001b[1m1s\u001b[0m 105ms/step - accuracy: 0.9687 - loss: 0.0675 - val_accuracy: 0.8402 - val_loss: 0.6850\n",
      "Epoch 77/100\n",
      "\u001b[1m12/12\u001b[0m \u001b[32m━━━━━━━━━━━━━━━━━━━━\u001b[0m\u001b[37m\u001b[0m \u001b[1m1s\u001b[0m 102ms/step - accuracy: 0.9772 - loss: 0.0656 - val_accuracy: 0.8402 - val_loss: 0.7084\n",
      "Epoch 78/100\n",
      "\u001b[1m12/12\u001b[0m \u001b[32m━━━━━━━━━━━━━━━━━━━━\u001b[0m\u001b[37m\u001b[0m \u001b[1m1s\u001b[0m 103ms/step - accuracy: 0.9876 - loss: 0.0473 - val_accuracy: 0.8454 - val_loss: 0.6861\n",
      "Epoch 79/100\n",
      "\u001b[1m12/12\u001b[0m \u001b[32m━━━━━━━━━━━━━━━━━━━━\u001b[0m\u001b[37m\u001b[0m \u001b[1m1s\u001b[0m 104ms/step - accuracy: 0.9857 - loss: 0.0395 - val_accuracy: 0.8557 - val_loss: 0.7166\n",
      "Epoch 80/100\n",
      "\u001b[1m12/12\u001b[0m \u001b[32m━━━━━━━━━━━━━━━━━━━━\u001b[0m\u001b[37m\u001b[0m \u001b[1m1s\u001b[0m 89ms/step - accuracy: 0.9806 - loss: 0.0524 - val_accuracy: 0.8505 - val_loss: 0.7385\n",
      "Epoch 81/100\n",
      "\u001b[1m12/12\u001b[0m \u001b[32m━━━━━━━━━━━━━━━━━━━━\u001b[0m\u001b[37m\u001b[0m \u001b[1m1s\u001b[0m 102ms/step - accuracy: 0.9879 - loss: 0.0345 - val_accuracy: 0.8402 - val_loss: 0.7797\n",
      "Epoch 82/100\n",
      "\u001b[1m12/12\u001b[0m \u001b[32m━━━━━━━━━━━━━━━━━━━━\u001b[0m\u001b[37m\u001b[0m \u001b[1m1s\u001b[0m 104ms/step - accuracy: 0.9894 - loss: 0.0384 - val_accuracy: 0.8454 - val_loss: 0.7205\n",
      "Epoch 83/100\n",
      "\u001b[1m12/12\u001b[0m \u001b[32m━━━━━━━━━━━━━━━━━━━━\u001b[0m\u001b[37m\u001b[0m \u001b[1m1s\u001b[0m 110ms/step - accuracy: 0.9897 - loss: 0.0340 - val_accuracy: 0.8196 - val_loss: 0.7150\n",
      "Epoch 84/100\n",
      "\u001b[1m12/12\u001b[0m \u001b[32m━━━━━━━━━━━━━━━━━━━━\u001b[0m\u001b[37m\u001b[0m \u001b[1m1s\u001b[0m 106ms/step - accuracy: 0.9695 - loss: 0.0771 - val_accuracy: 0.8454 - val_loss: 0.6764\n",
      "Epoch 85/100\n",
      "\u001b[1m12/12\u001b[0m \u001b[32m━━━━━━━━━━━━━━━━━━━━\u001b[0m\u001b[37m\u001b[0m \u001b[1m1s\u001b[0m 92ms/step - accuracy: 0.9889 - loss: 0.0582 - val_accuracy: 0.8299 - val_loss: 0.6963\n",
      "Epoch 86/100\n",
      "\u001b[1m12/12\u001b[0m \u001b[32m━━━━━━━━━━━━━━━━━━━━\u001b[0m\u001b[37m\u001b[0m \u001b[1m1s\u001b[0m 102ms/step - accuracy: 0.9954 - loss: 0.0376 - val_accuracy: 0.8196 - val_loss: 0.7023\n",
      "Epoch 87/100\n",
      "\u001b[1m12/12\u001b[0m \u001b[32m━━━━━━━━━━━━━━━━━━━━\u001b[0m\u001b[37m\u001b[0m \u001b[1m1s\u001b[0m 102ms/step - accuracy: 0.9733 - loss: 0.0638 - val_accuracy: 0.8247 - val_loss: 0.8231\n",
      "Epoch 88/100\n",
      "\u001b[1m12/12\u001b[0m \u001b[32m━━━━━━━━━━━━━━━━━━━━\u001b[0m\u001b[37m\u001b[0m \u001b[1m1s\u001b[0m 104ms/step - accuracy: 0.9739 - loss: 0.0587 - val_accuracy: 0.8144 - val_loss: 0.9092\n",
      "Epoch 89/100\n",
      "\u001b[1m12/12\u001b[0m \u001b[32m━━━━━━━━━━━━━━━━━━━━\u001b[0m\u001b[37m\u001b[0m \u001b[1m1s\u001b[0m 104ms/step - accuracy: 0.9797 - loss: 0.0543 - val_accuracy: 0.8247 - val_loss: 1.0207\n",
      "Epoch 90/100\n",
      "\u001b[1m12/12\u001b[0m \u001b[32m━━━━━━━━━━━━━━━━━━━━\u001b[0m\u001b[37m\u001b[0m \u001b[1m1s\u001b[0m 92ms/step - accuracy: 0.9779 - loss: 0.0461 - val_accuracy: 0.8196 - val_loss: 0.8278\n",
      "Epoch 91/100\n",
      "\u001b[1m12/12\u001b[0m \u001b[32m━━━━━━━━━━━━━━━━━━━━\u001b[0m\u001b[37m\u001b[0m \u001b[1m1s\u001b[0m 105ms/step - accuracy: 0.9856 - loss: 0.0534 - val_accuracy: 0.8196 - val_loss: 0.7319\n",
      "Epoch 92/100\n",
      "\u001b[1m12/12\u001b[0m \u001b[32m━━━━━━━━━━━━━━━━━━━━\u001b[0m\u001b[37m\u001b[0m \u001b[1m1s\u001b[0m 111ms/step - accuracy: 0.9925 - loss: 0.0272 - val_accuracy: 0.8454 - val_loss: 0.8148\n",
      "Epoch 93/100\n",
      "\u001b[1m12/12\u001b[0m \u001b[32m━━━━━━━━━━━━━━━━━━━━\u001b[0m\u001b[37m\u001b[0m \u001b[1m2s\u001b[0m 133ms/step - accuracy: 0.9799 - loss: 0.0551 - val_accuracy: 0.8402 - val_loss: 0.7609\n",
      "Epoch 94/100\n",
      "\u001b[1m12/12\u001b[0m \u001b[32m━━━━━━━━━━━━━━━━━━━━\u001b[0m\u001b[37m\u001b[0m \u001b[1m2s\u001b[0m 135ms/step - accuracy: 0.9934 - loss: 0.0234 - val_accuracy: 0.8351 - val_loss: 0.8296\n",
      "Epoch 95/100\n",
      "\u001b[1m12/12\u001b[0m \u001b[32m━━━━━━━━━━━━━━━━━━━━\u001b[0m\u001b[37m\u001b[0m \u001b[1m1s\u001b[0m 114ms/step - accuracy: 0.9745 - loss: 0.0631 - val_accuracy: 0.8196 - val_loss: 0.9084\n",
      "Epoch 96/100\n",
      "\u001b[1m12/12\u001b[0m \u001b[32m━━━━━━━━━━━━━━━━━━━━\u001b[0m\u001b[37m\u001b[0m \u001b[1m1s\u001b[0m 110ms/step - accuracy: 0.9743 - loss: 0.0487 - val_accuracy: 0.8247 - val_loss: 0.8673\n",
      "Epoch 97/100\n",
      "\u001b[1m12/12\u001b[0m \u001b[32m━━━━━━━━━━━━━━━━━━━━\u001b[0m\u001b[37m\u001b[0m \u001b[1m1s\u001b[0m 107ms/step - accuracy: 0.9981 - loss: 0.0230 - val_accuracy: 0.8299 - val_loss: 0.8770\n",
      "Epoch 98/100\n",
      "\u001b[1m12/12\u001b[0m \u001b[32m━━━━━━━━━━━━━━━━━━━━\u001b[0m\u001b[37m\u001b[0m \u001b[1m1s\u001b[0m 111ms/step - accuracy: 0.9896 - loss: 0.0252 - val_accuracy: 0.8351 - val_loss: 0.8735\n",
      "Epoch 99/100\n",
      "\u001b[1m12/12\u001b[0m \u001b[32m━━━━━━━━━━━━━━━━━━━━\u001b[0m\u001b[37m\u001b[0m \u001b[1m1s\u001b[0m 106ms/step - accuracy: 0.9937 - loss: 0.0279 - val_accuracy: 0.8299 - val_loss: 0.9414\n",
      "Epoch 100/100\n",
      "\u001b[1m12/12\u001b[0m \u001b[32m━━━━━━━━━━━━━━━━━━━━\u001b[0m\u001b[37m\u001b[0m \u001b[1m1s\u001b[0m 93ms/step - accuracy: 0.9966 - loss: 0.0261 - val_accuracy: 0.8351 - val_loss: 0.9319\n"
     ]
    }
   ],
   "source": [
    "model.compile(optimizer = 'adam', loss = keras.losses.binary_crossentropy, metrics = ['accuracy'])\n",
    "r=model.fit(X_train,y_train,validation_split=0.1, epochs = 100,steps_per_epoch=12, verbose=1, batch_size=30)\n"
   ]
  },
  {
   "cell_type": "code",
   "execution_count": 13,
   "id": "552cbb0e",
   "metadata": {
    "execution": {
     "iopub.execute_input": "2023-05-04T09:10:26.387118Z",
     "iopub.status.busy": "2023-05-04T09:10:26.386602Z",
     "iopub.status.idle": "2023-05-04T09:10:26.391203Z",
     "shell.execute_reply": "2023-05-04T09:10:26.390337Z"
    },
    "papermill": {
     "duration": 0.066813,
     "end_time": "2023-05-04T09:10:26.395210",
     "exception": false,
     "start_time": "2023-05-04T09:10:26.328397",
     "status": "completed"
    },
    "tags": []
   },
   "outputs": [],
   "source": [
    "train_dir = \"./train\"\n",
    "test_dir = \"./test\""
   ]
  },
  {
   "cell_type": "code",
   "execution_count": 14,
   "id": "7a4b282d",
   "metadata": {
    "execution": {
     "iopub.execute_input": "2023-05-04T09:10:26.505157Z",
     "iopub.status.busy": "2023-05-04T09:10:26.504805Z",
     "iopub.status.idle": "2023-05-04T09:10:27.882610Z",
     "shell.execute_reply": "2023-05-04T09:10:27.881612Z"
    },
    "papermill": {
     "duration": 1.436102,
     "end_time": "2023-05-04T09:10:27.885237",
     "exception": false,
     "start_time": "2023-05-04T09:10:26.449135",
     "status": "completed"
    },
    "tags": []
   },
   "outputs": [
    {
     "name": "stdout",
     "output_type": "stream",
     "text": [
      "Found 1720 files belonging to 2 classes.\n",
      "Found 430 files belonging to 2 classes.\n"
     ]
    }
   ],
   "source": [
    "import tensorflow as tf\n",
    "\n",
    "train_data = tf.keras.preprocessing.image_dataset_from_directory(train_dir,\n",
    "                                                                 image_size=(224,224),\n",
    "                                                                 label_mode = \"categorical\",\n",
    "                                                                 batch_size = 32\n",
    "                                                                 )\n",
    "test_data =tf.keras.preprocessing.image_dataset_from_directory(test_dir,\n",
    "                                                               image_size =(224,224),\n",
    "                                                               label_mode = \"categorical\",\n",
    "                                                               batch_size = 32\n",
    "                                                               )"
   ]
  },
  {
   "cell_type": "code",
   "execution_count": 15,
   "id": "26b0d7e2",
   "metadata": {
    "execution": {
     "iopub.execute_input": "2023-05-04T09:10:28.028795Z",
     "iopub.status.busy": "2023-05-04T09:10:28.028465Z",
     "iopub.status.idle": "2023-05-04T09:10:28.538124Z",
     "shell.execute_reply": "2023-05-04T09:10:28.537230Z"
    },
    "papermill": {
     "duration": 0.577695,
     "end_time": "2023-05-04T09:10:28.540339",
     "exception": false,
     "start_time": "2023-05-04T09:10:27.962644",
     "status": "completed"
    },
    "tags": []
   },
   "outputs": [
    {
     "name": "stdout",
     "output_type": "stream",
     "text": [
      "\u001b[1m7/7\u001b[0m \u001b[32m━━━━━━━━━━━━━━━━━━━━\u001b[0m\u001b[37m\u001b[0m \u001b[1m0s\u001b[0m 37ms/step\n"
     ]
    }
   ],
   "source": [
    "pred = model.predict(X_test)\n",
    "pred = np.argmax(pred,axis=1)\n",
    "y_test_new = np.argmax(y_test,axis=1)"
   ]
  },
  {
   "cell_type": "code",
   "execution_count": 16,
   "id": "9dbd563a",
   "metadata": {
    "execution": {
     "iopub.execute_input": "2023-05-04T09:10:28.614585Z",
     "iopub.status.busy": "2023-05-04T09:10:28.614252Z",
     "iopub.status.idle": "2023-05-04T09:10:28.629572Z",
     "shell.execute_reply": "2023-05-04T09:10:28.628455Z"
    },
    "papermill": {
     "duration": 0.054916,
     "end_time": "2023-05-04T09:10:28.632060",
     "exception": false,
     "start_time": "2023-05-04T09:10:28.577144",
     "status": "completed"
    },
    "tags": []
   },
   "outputs": [
    {
     "name": "stdout",
     "output_type": "stream",
     "text": [
      "              precision    recall  f1-score   support\n",
      "\n",
      "           0       0.79      0.81      0.80       100\n",
      "           1       0.83      0.81      0.82       115\n",
      "\n",
      "    accuracy                           0.81       215\n",
      "   macro avg       0.81      0.81      0.81       215\n",
      "weighted avg       0.81      0.81      0.81       215\n",
      "\n"
     ]
    }
   ],
   "source": [
    "print(classification_report(y_test_new,pred))"
   ]
  },
  {
   "cell_type": "code",
   "execution_count": 17,
   "id": "c2feac4f",
   "metadata": {
    "execution": {
     "iopub.execute_input": "2023-05-04T09:10:28.707807Z",
     "iopub.status.busy": "2023-05-04T09:10:28.707029Z",
     "iopub.status.idle": "2023-05-04T09:10:29.020847Z",
     "shell.execute_reply": "2023-05-04T09:10:29.019824Z"
    },
    "papermill": {
     "duration": 0.35273,
     "end_time": "2023-05-04T09:10:29.023102",
     "exception": false,
     "start_time": "2023-05-04T09:10:28.670372",
     "status": "completed"
    },
    "tags": []
   },
   "outputs": [
    {
     "data": {
      "image/png": "[encoded data removed]",
      "text/plain": [
       "<Figure size 1400x700 with 2 Axes>"
      ]
     },
     "metadata": {},
     "output_type": "display_data"
    }
   ],
   "source": [
    "colors_dark = [\"#1F1F1F\", \"#313131\", '#636363', '#AEAEAE', '#DADADA']\n",
    "colors_red = [\"#331313\", \"#582626\", '#9E1717', '#D35151', '#E9B4B4']\n",
    "colors_green = ['#01411C','#4B6F44','#4F7942','#74C365','#D0F0C0']\n",
    "\n",
    "\n",
    "\n",
    "fig,ax=plt.subplots(1,1,figsize=(14,7))\n",
    "sns.heatmap(confusion_matrix(y_test_new,pred),ax=ax,xticklabels=labels,yticklabels=labels,annot=True,\n",
    "           cmap=colors_green[::1],alpha=0.7,linewidths=2,linecolor=colors_green[3])\n",
    "fig.text(s='Heatmap of the Confusion Matrix',size=18,fontweight='bold',\n",
    "             fontname='monospace',color=colors_dark[1],y=0.92,x=0.28,alpha=0.8)\n",
    "\n",
    "plt.show()"
   ]
  },
  {
   "cell_type": "code",
   "execution_count": null,
   "id": "75f7d3bb",
   "metadata": {
    "papermill": {
     "duration": 0.035929,
     "end_time": "2023-05-04T09:10:29.094777",
     "exception": false,
     "start_time": "2023-05-04T09:10:29.058848",
     "status": "completed"
    },
    "tags": []
   },
   "outputs": [],
   "source": []
  }
 ],
 "metadata": {
  "kernelspec": {
   "display_name": "Python 3",
   "language": "python",
   "name": "python3"
  },
  "language_info": {
   "codemirror_mode": {
    "name": "ipython",
    "version": 3
   },
   "file_extension": ".py",
   "mimetype": "text/x-python",
   "name": "python",
   "nbconvert_exporter": "python",
   "pygments_lexer": "ipython3",
   "version": "3.10.13"
  },
  "papermill": {
   "default_parameters": {},
   "duration": 261.663955,
   "end_time": "2023-05-04T09:10:32.059488",
   "environment_variables": {},
   "exception": null,
   "input_path": "__notebook__.ipynb",
   "output_path": "__notebook__.ipynb",
   "parameters": {},
   "start_time": "2023-05-04T09:06:10.395533",
   "version": "2.4.0"
  }
 },
 "nbformat": 4,
 "nbformat_minor": 5
}
